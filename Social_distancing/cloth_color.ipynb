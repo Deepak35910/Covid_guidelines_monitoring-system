{
 "cells": [
  {
   "cell_type": "code",
   "execution_count": 222,
   "metadata": {},
   "outputs": [],
   "source": [
    "from sklearn.cluster import KMeans\n",
    "import numpy as np\n",
    "import matplotlib.pyplot as plt\n",
    "import matplotlib.patches as patches\n",
    "import cv2\n",
    "import pandas as pd\n",
    "\n",
    "#img = cv2.imread('black_tshirt.jpg')\n",
    "img = cv2.imread('womendress.jpg')\n",
    "height, width, dim = img.shape\n",
    "\n",
    "img = img[int((height/4)):int((2*height/4)), int((width/4)):int((3*width/4)), :]\n",
    "height, width, dim = img.shape\n",
    "\n",
    "window_name = 'image'\n",
    "cv2.imshow(window_name,img)\n",
    "cv2.waitKey(0)  \n",
    "\n",
    "img_vec = np.reshape(img, [height * width, dim] )\n",
    "\n",
    "kmeans = KMeans(n_clusters=3)\n",
    "kmeans.fit( img_vec )\n",
    "\n",
    "unique_l, counts_l = np.unique(kmeans.labels_, return_counts=True)\n",
    "sort_ix = np.argsort(counts_l)\n",
    "sort_ix = sort_ix[::-1]\n",
    "\n"
   ]
  },
  {
   "cell_type": "code",
   "execution_count": 223,
   "metadata": {},
   "outputs": [
    {
     "data": {
      "text/plain": [
       "KMeans(n_clusters=3)"
      ]
     },
     "execution_count": 223,
     "metadata": {},
     "output_type": "execute_result"
    }
   ],
   "source": []
  },
  {
   "cell_type": "code",
   "execution_count": 224,
   "metadata": {},
   "outputs": [
    {
     "data": {
      "image/png": "[encoded data removed]",
      "text/plain": [
       "<Figure size 432x288 with 1 Axes>"
      ]
     },
     "metadata": {
      "needs_background": "light"
     },
     "output_type": "display_data"
    }
   ],
   "source": []
  },
  {
   "cell_type": "code",
   "execution_count": 230,
   "metadata": {},
   "outputs": [],
   "source": [
    "df=pd.read_csv('knn_color.csv')\n",
    "knn1=df.drop('Y_label',axis=1)\n",
    "X=knn1.drop('Y',axis=1)\n",
    "Y=knn1['Y']\n",
    "\n",
    "list1=list(df['Y'])\n",
    "list2=list(df['Y_label'])\n",
    "\n",
    "res = {} \n",
    "for key in list1: \n",
    "    for value in list2: \n",
    "        res[key] = value \n",
    "        list2.remove(value) \n",
    "        break  \n"
   ]
  },
  {
   "cell_type": "code",
   "execution_count": 231,
   "metadata": {},
   "outputs": [
    {
     "data": {
      "text/plain": [
       "1.0"
      ]
     },
     "execution_count": 231,
     "metadata": {},
     "output_type": "execute_result"
    }
   ],
   "source": [
    "from sklearn.neighbors import KNeighborsClassifier\n",
    "from sklearn.pipeline import Pipeline\n",
    "\n",
    "estimators = []\n",
    "estimators.append(('knn', KNeighborsClassifier(n_neighbors = 1)))\n",
    "model = Pipeline(estimators)\n",
    "model.fit(X, Y)\n",
    "Predicted_Class = model.predict(X)\n",
    "np.mean(Y == Predicted_Class )"
   ]
  },
  {
   "cell_type": "code",
   "execution_count": 238,
   "metadata": {},
   "outputs": [
    {
     "data": {
      "text/plain": [
       "'Black'"
      ]
     },
     "execution_count": 238,
     "metadata": {},
     "output_type": "execute_result"
    }
   ],
   "source": [
    "df_test=pd.DataFrame(np.array(kmeans.cluster_centers_[0],int).reshape(1,-1))\n",
    "df_test1=pd.DataFrame()\n",
    "df_test1['x1']=df_test[2]\n",
    "df_test1['x2']=df_test[1]\n",
    "df_test1['x3']=df_test[0]\n",
    "\n",
    "Y1=int(model.predict(df_test1))\n",
    "res[Y1]\n"
   ]
  }
 ],
 "metadata": {
  "kernelspec": {
   "display_name": "Python 3",
   "language": "python",
   "name": "python3"
  },
  "language_info": {
   "codemirror_mode": {
    "name": "ipython",
    "version": 3
   },
   "file_extension": ".py",
   "mimetype": "text/x-python",
   "name": "python",
   "nbconvert_exporter": "python",
   "pygments_lexer": "ipython3",
   "version": "3.8.3"
  }
 },
 "nbformat": 4,
 "nbformat_minor": 4
}
