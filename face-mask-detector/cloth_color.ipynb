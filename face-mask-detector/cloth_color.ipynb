{
 "cells": [
  {
   "cell_type": "code",
   "execution_count": 7,
   "metadata": {},
   "outputs": [],
   "source": [
    "from sklearn.cluster import KMeans\n",
    "import numpy as np\n",
    "import matplotlib.pyplot as plt\n",
    "import matplotlib.patches as patches\n",
    "import cv2\n",
    "import pandas as pd\n",
    "\n",
    "#img = cv2.imread('black_tshirt.jpg')\n",
    "img = cv2.imread('orange.jpg')\n",
    "height, width, dim = img.shape\n",
    "\n",
    "img = img[int((height/4)):int((2*height/4)), int((width/4)):int((3*width/4)), :]\n",
    "height, width, dim = img.shape\n",
    "\n",
    "window_name = 'image'\n",
    "cv2.imshow(window_name,img)\n",
    "cv2.waitKey(0)  \n",
    "\n",
    "img_vec = np.reshape(img, [height * width, dim] )\n",
    "\n",
    "kmeans = KMeans(n_clusters=1)\n",
    "kmeans.fit( img_vec )\n",
    "\n",
    "unique_l, counts_l = np.unique(kmeans.labels_, return_counts=True)\n",
    "sort_ix = np.argsort(counts_l)\n",
    "sort_ix = sort_ix[::-1]\n",
    "\n"
   ]
  },
  {
   "cell_type": "code",
   "execution_count": 8,
   "metadata": {},
   "outputs": [
    {
     "data": {
      "image/png": "[encoded data removed]",
      "text/plain": [
       "<Figure size 432x288 with 1 Axes>"
      ]
     },
     "metadata": {
      "needs_background": "light"
     },
     "output_type": "display_data"
    }
   ],
   "source": [
    "fig = plt.figure()\n",
    "ax = fig.add_subplot(111)\n",
    "x_from = 0.05\n",
    "\n",
    "for cluster_center in np.array(kmeans.cluster_centers_[sort_ix],int):\n",
    "    ax.add_patch(patches.Rectangle( (x_from, 0.05), 0.29, 0.9, alpha=None,\n",
    "            facecolor='#%02x%02x%02x' % (cluster_center[2], cluster_center[1], cluster_center[0] ) ) )\n",
    "    x_from = x_from + 0.31\n",
    "\n",
    "plt.show()"
   ]
  },
  {
   "cell_type": "code",
   "execution_count": 9,
   "metadata": {},
   "outputs": [],
   "source": [
    "df=pd.read_csv('knn_color.csv')\n",
    "knn1=df.drop('Y_label',axis=1)\n",
    "X=knn1.drop('Y',axis=1)\n",
    "Y=knn1['Y']\n",
    "\n",
    "list1=list(df['Y'])\n",
    "list2=list(df['Y_label'])\n",
    "\n",
    "res = {} \n",
    "for key in list1: \n",
    "    for value in list2: \n",
    "        res[key] = value \n",
    "        list2.remove(value) \n",
    "        break  \n"
   ]
  },
  {
   "cell_type": "code",
   "execution_count": 10,
   "metadata": {},
   "outputs": [
    {
     "data": {
      "text/plain": [
       "1.0"
      ]
     },
     "execution_count": 10,
     "metadata": {},
     "output_type": "execute_result"
    }
   ],
   "source": [
    "from sklearn.neighbors import KNeighborsClassifier\n",
    "from sklearn.pipeline import Pipeline\n",
    "\n",
    "estimators = []\n",
    "estimators.append(('knn', KNeighborsClassifier(n_neighbors = 1)))\n",
    "model = Pipeline(estimators)\n",
    "model.fit(X, Y)\n",
    "Predicted_Class = model.predict(X)\n",
    "np.mean(Y == Predicted_Class )"
   ]
  },
  {
   "cell_type": "code",
   "execution_count": 13,
   "metadata": {},
   "outputs": [
    {
     "data": {
      "text/html": [
       "<div>\n",
       "<style scoped>\n",
       "    .dataframe tbody tr th:only-of-type {\n",
       "        vertical-align: middle;\n",
       "    }\n",
       "\n",
       "    .dataframe tbody tr th {\n",
       "        vertical-align: top;\n",
       "    }\n",
       "\n",
       "    .dataframe thead th {\n",
       "        text-align: right;\n",
       "    }\n",
       "</style>\n",
       "<table border=\"1\" class=\"dataframe\">\n",
       "  <thead>\n",
       "    <tr style=\"text-align: right;\">\n",
       "      <th></th>\n",
       "      <th>x1</th>\n",
       "      <th>x2</th>\n",
       "      <th>x3</th>\n",
       "    </tr>\n",
       "  </thead>\n",
       "  <tbody>\n",
       "    <tr>\n",
       "      <th>0</th>\n",
       "      <td>242</td>\n",
       "      <td>178</td>\n",
       "      <td>110</td>\n",
       "    </tr>\n",
       "  </tbody>\n",
       "</table>\n",
       "</div>"
      ],
      "text/plain": [
       "    x1   x2   x3\n",
       "0  242  178  110"
      ]
     },
     "execution_count": 13,
     "metadata": {},
     "output_type": "execute_result"
    }
   ],
   "source": [
    "df_test=pd.DataFrame(np.array(kmeans.cluster_centers_[0],int).reshape(1,-1))\n",
    "df_test1=pd.DataFrame()\n",
    "df_test1['x1']=df_test[2]\n",
    "df_test1['x2']=df_test[1]\n",
    "df_test1['x3']=df_test[0]\n",
    "\n",
    "Y1=int(model.predict(df_test1))\n",
    "res[Y1]\n",
    "df_test1"
   ]
  }
 ],
 "metadata": {
  "kernelspec": {
   "display_name": "Python 3",
   "language": "python",
   "name": "python3"
  },
  "language_info": {
   "codemirror_mode": {
    "name": "ipython",
    "version": 3
   },
   "file_extension": ".py",
   "mimetype": "text/x-python",
   "name": "python",
   "nbconvert_exporter": "python",
   "pygments_lexer": "ipython3",
   "version": "3.8.3"
  }
 },
 "nbformat": 4,
 "nbformat_minor": 4
}
