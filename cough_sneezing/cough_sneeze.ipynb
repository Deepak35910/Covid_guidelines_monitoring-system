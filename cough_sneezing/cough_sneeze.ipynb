{
  "nbformat": 4,
  "nbformat_minor": 0,
  "metadata": {
    "colab": {
      "name": "cough_sneeze.ipynb",
      "provenance": [],
      "collapsed_sections": []
    },
    "kernelspec": {
      "display_name": "Python 3",
      "name": "python3"
    },
    "accelerator": "GPU"
  },
  "cells": [
    {
      "cell_type": "code",
      "metadata": {
        "colab": {
          "base_uri": "https://localhost:8080/"
        },
        "id": "85YdC1vcnYFa",
        "outputId": "0885af5f-18e7-4d86-bd1c-703dabd6ddc8"
      },
      "source": [
        "from google.colab import drive\r\n",
        "drive.mount('/content/gdrive')"
      ],
      "execution_count": null,
      "outputs": [
        {
          "output_type": "stream",
          "text": [
            "Mounted at /content/gdrive\n"
          ],
          "name": "stdout"
        }
      ]
    },
    {
      "cell_type": "code",
      "metadata": {
        "id": "MqMbxhXHnY88"
      },
      "source": [
        "import os\r\n",
        "os.chdir(\"/content/gdrive/MyDrive/Colab Notebooks/cough_sneezing\")\r\n"
      ],
      "execution_count": null,
      "outputs": []
    },
    {
      "cell_type": "code",
      "metadata": {
        "colab": {
          "base_uri": "https://localhost:8080/"
        },
        "id": "Ug38iEpGnZAE",
        "outputId": "0f40362e-cf58-4cfb-91c8-ad5f5ec71212"
      },
      "source": [
        "#!python object_tracker.py\r\n",
        "\r\n",
        "#!python sneezecolab.py\r\n",
        "\r\n",
        "\r\n"
      ],
      "execution_count": null,
      "outputs": [
        {
          "output_type": "stream",
          "text": [
            "2021-01-08 09:10:26.965835: I tensorflow/stream_executor/platform/default/dso_loader.cc:49] Successfully opened dynamic library libcudart.so.10.1\n",
            "91\n",
            "111\n",
            "(1919,)\n",
            "[1 1 1 ... 0 0 0]\n"
          ],
          "name": "stdout"
        }
      ]
    },
    {
      "cell_type": "code",
      "metadata": {
        "id": "jAmCqwvOyz2X"
      },
      "source": [
        ""
      ],
      "execution_count": null,
      "outputs": []
    },
    {
      "cell_type": "code",
      "metadata": {
        "id": "KjGsM9yZyz5P"
      },
      "source": [
        "# Importing the libraries\r\n",
        "import numpy as np\r\n",
        "import matplotlib.pyplot as plt\r\n",
        "import pandas as pd\r\n",
        "import datetime\r\n",
        "import requests\r\n",
        "import json\r\n",
        "from numpy.random import seed\r\n",
        "import tensorflow as tf\r\n"
      ],
      "execution_count": null,
      "outputs": []
    },
    {
      "cell_type": "code",
      "metadata": {
        "colab": {
          "base_uri": "https://localhost:8080/"
        },
        "id": "614SUvXXit9m",
        "outputId": "740eeda0-bda8-4f04-d3dc-b45e5f45a62d"
      },
      "source": [
        "seed(50)\r\n",
        "arr = np.arange(1919)\r\n",
        "np.random.shuffle(arr)\r\n",
        "arr=arr.tolist()\r\n",
        "len(arr)"
      ],
      "execution_count": null,
      "outputs": [
        {
          "output_type": "execute_result",
          "data": {
            "text/plain": [
              "1919"
            ]
          },
          "metadata": {
            "tags": []
          },
          "execution_count": 4
        }
      ]
    },
    {
      "cell_type": "code",
      "metadata": {
        "colab": {
          "base_uri": "https://localhost:8080/"
        },
        "id": "fv0hu2KXiuF_",
        "outputId": "e146b114-ff29-477a-a662-6bf43e2e1ce0"
      },
      "source": [
        "a=int(len(arr)*0.9)\r\n",
        "b=1919-a\r\n",
        "filter_indices_1 = arr[:a]\r\n",
        "filter_indices_2 = arr[-b:]\r\n",
        "print(len(filter_indices_1),len(filter_indices_2))"
      ],
      "execution_count": null,
      "outputs": [
        {
          "output_type": "stream",
          "text": [
            "1727 192\n"
          ],
          "name": "stdout"
        }
      ]
    },
    {
      "cell_type": "code",
      "metadata": {
        "id": "QapiRrkWZXZx"
      },
      "source": [
        "from pickle import dump,load\r\n",
        "data_x = load(open(r'/content/gdrive/MyDrive/Colab Notebooks/cough_sneezing/data_input.pkl', 'rb'))\r\n"
      ],
      "execution_count": null,
      "outputs": []
    },
    {
      "cell_type": "code",
      "metadata": {
        "id": "Je7Z5RW5YYXE"
      },
      "source": [
        "#data_x=tf.keras.preprocessing.sequence.pad_sequences(data_x)\r\n",
        "#test_x=tf.keras.preprocessing.sequence.pad_sequences(test_x)\r\n"
      ],
      "execution_count": null,
      "outputs": []
    },
    {
      "cell_type": "code",
      "metadata": {
        "colab": {
          "base_uri": "https://localhost:8080/"
        },
        "id": "CQOwGTkejjgV",
        "outputId": "73cab679-a0ee-4894-fac1-726e4edabf4c"
      },
      "source": [
        "print(len(data_x[0]))\r\n",
        "print(len(data_x[1]))\r\n"
      ],
      "execution_count": null,
      "outputs": [
        {
          "output_type": "stream",
          "text": [
            "91\n",
            "111\n"
          ],
          "name": "stdout"
        }
      ]
    },
    {
      "cell_type": "code",
      "metadata": {
        "colab": {
          "base_uri": "https://localhost:8080/"
        },
        "id": "Vy_a3AixiboB",
        "outputId": "1e598d04-25e6-4b97-eaa9-b3925f797423"
      },
      "source": [
        "train_x = [data_x[i] for i in filter_indices_1] \r\n",
        "test_x = [data_x[i] for i in filter_indices_2] \r\n",
        "print(len(train_x),len(test_x))\r\n"
      ],
      "execution_count": null,
      "outputs": [
        {
          "output_type": "stream",
          "text": [
            "1727 192\n"
          ],
          "name": "stdout"
        }
      ]
    },
    {
      "cell_type": "code",
      "metadata": {
        "colab": {
          "base_uri": "https://localhost:8080/"
        },
        "id": "j7yIPJmCjo-W",
        "outputId": "8871832d-20ef-46e8-a1d4-b47ca420fb0b"
      },
      "source": [
        "print(len(train_x[0]))\r\n",
        "print(len(train_x[1]))\r\n"
      ],
      "execution_count": null,
      "outputs": [
        {
          "output_type": "stream",
          "text": [
            "76\n",
            "79\n"
          ],
          "name": "stdout"
        }
      ]
    },
    {
      "cell_type": "code",
      "metadata": {
        "id": "ENy9jrvfxvIQ"
      },
      "source": [
        "import numpy as np\r\n",
        "from pickle import dump,load\r\n",
        "data_y = load(open(r'/content/gdrive/MyDrive/Colab Notebooks/cough_sneezing/data_output.pkl', 'rb'))\r\n"
      ],
      "execution_count": null,
      "outputs": []
    },
    {
      "cell_type": "code",
      "metadata": {
        "colab": {
          "base_uri": "https://localhost:8080/"
        },
        "id": "v773jHdkjxCS",
        "outputId": "cf50a7a2-1f8c-4781-d01d-8b65d2c70e50"
      },
      "source": [
        "train_y = [data_y[i] for i in filter_indices_1] \r\n",
        "test_y = [data_y[i] for i in filter_indices_2] \r\n",
        "print(len(train_y),len(test_y))"
      ],
      "execution_count": null,
      "outputs": [
        {
          "output_type": "stream",
          "text": [
            "1727 192\n"
          ],
          "name": "stdout"
        }
      ]
    },
    {
      "cell_type": "code",
      "metadata": {
        "colab": {
          "base_uri": "https://localhost:8080/"
        },
        "id": "udhM1j8njxFJ",
        "outputId": "29310267-4c63-4fb1-d45b-1d543c3cb7ae"
      },
      "source": [
        "np.sum(train_y)/(np.sum(train_y)+np.sum(test_y))\r\n"
      ],
      "execution_count": null,
      "outputs": [
        {
          "output_type": "execute_result",
          "data": {
            "text/plain": [
              "0.89375"
            ]
          },
          "metadata": {
            "tags": []
          },
          "execution_count": 12
        }
      ]
    },
    {
      "cell_type": "code",
      "metadata": {
        "id": "T4A71lNyWBu5"
      },
      "source": [
        "\r\n",
        "#print(train_x[0].shape)\r\n",
        "#print(train_x[1].shape)\r\n",
        "\r\n",
        "#train_x=tf.keras.preprocessing.sequence.pad_sequences(train_x)\r\n",
        "#test_x=tf.keras.preprocessing.sequence.pad_sequences(test_x)\r\n",
        "\r\n",
        "#print(train_x[0].shape)\r\n",
        "#print(train_x[1].shape)\r\n"
      ],
      "execution_count": null,
      "outputs": []
    },
    {
      "cell_type": "code",
      "metadata": {
        "colab": {
          "base_uri": "https://localhost:8080/"
        },
        "id": "OkyvK6oHxvK4",
        "outputId": "cf949ebb-2fc4-4915-b082-cdc5c3d05942"
      },
      "source": [
        "train_x=np.array(train_x)\r\n",
        "print(train_x.shape)\r\n",
        "train_x = tf.ragged.constant(train_x)\r\n",
        "print(train_x.shape)\r\n",
        "\r\n",
        "test_x=np.array(test_x)\r\n",
        "test_x = tf.ragged.constant(test_x)\r\n",
        "\r\n"
      ],
      "execution_count": null,
      "outputs": [
        {
          "output_type": "stream",
          "text": [
            "/usr/local/lib/python3.7/dist-packages/ipykernel_launcher.py:1: VisibleDeprecationWarning: Creating an ndarray from ragged nested sequences (which is a list-or-tuple of lists-or-tuples-or ndarrays with different lengths or shapes) is deprecated. If you meant to do this, you must specify 'dtype=object' when creating the ndarray\n",
            "  \"\"\"Entry point for launching an IPython kernel.\n"
          ],
          "name": "stderr"
        },
        {
          "output_type": "stream",
          "text": [
            "(1727,)\n",
            "(1727, None, None)\n"
          ],
          "name": "stdout"
        },
        {
          "output_type": "stream",
          "text": [
            "/usr/local/lib/python3.7/dist-packages/ipykernel_launcher.py:6: VisibleDeprecationWarning: Creating an ndarray from ragged nested sequences (which is a list-or-tuple of lists-or-tuples-or ndarrays with different lengths or shapes) is deprecated. If you meant to do this, you must specify 'dtype=object' when creating the ndarray\n",
            "  \n"
          ],
          "name": "stderr"
        }
      ]
    },
    {
      "cell_type": "code",
      "metadata": {
        "id": "6wCeErD2ydhu"
      },
      "source": [
        "train_y = tf.ragged.constant(train_y)\r\n",
        "test_y = tf.ragged.constant(test_y)\r\n",
        "\r\n"
      ],
      "execution_count": null,
      "outputs": []
    },
    {
      "cell_type": "code",
      "metadata": {
        "id": "qFm3Tfw3ydku",
        "colab": {
          "base_uri": "https://localhost:8080/"
        },
        "outputId": "610a431a-5719-4a2a-fb03-b32d6a51d3c7"
      },
      "source": [
        "print(train_x.shape)\r\n",
        "print(test_x.shape)\r\n",
        "print(train_y.shape)\r\n",
        "print(test_y.shape)\r\n"
      ],
      "execution_count": null,
      "outputs": [
        {
          "output_type": "stream",
          "text": [
            "(1727, None, None)\n",
            "(192, None, None)\n",
            "(1727,)\n",
            "(192,)\n"
          ],
          "name": "stdout"
        }
      ]
    },
    {
      "cell_type": "code",
      "metadata": {
        "colab": {
          "base_uri": "https://localhost:8080/"
        },
        "id": "WaPYmtA8VFCn",
        "outputId": "f383af1a-7263-4a0f-b2fb-9cabe3fe2980"
      },
      "source": [
        "print(np.sum(train_y))\r\n",
        "print(np.sum(test_y))\r\n"
      ],
      "execution_count": null,
      "outputs": [
        {
          "output_type": "stream",
          "text": [
            "429\n",
            "51\n"
          ],
          "name": "stdout"
        }
      ]
    },
    {
      "cell_type": "code",
      "metadata": {
        "id": "g74fbxm-ytDi"
      },
      "source": [
        "# Part 2 - Building the RNN\r\n",
        "\r\n",
        "# Importing the Keras libraries and packages\r\n",
        "from keras.models import Sequential\r\n",
        "from keras.layers import Dense\r\n",
        "from keras.layers import LSTM\r\n",
        "from keras.layers import Bidirectional\r\n",
        "from keras.layers import Dropout,BatchNormalization\r\n",
        "from keras.layers import Input\r\n",
        "from keras.layers import Conv1D\r\n",
        "from keras.optimizers  import Adam\r\n",
        "from tensorflow.keras import regularizers\r\n",
        "from tensorflow.keras.regularizers import l2\r\n"
      ],
      "execution_count": null,
      "outputs": []
    },
    {
      "cell_type": "code",
      "metadata": {
        "id": "Q8VomyPLytGL"
      },
      "source": [
        "# Initialising the RNN\r\n",
        "seed(500)\r\n",
        "model = Sequential()\r\n",
        "\r\n"
      ],
      "execution_count": null,
      "outputs": []
    },
    {
      "cell_type": "code",
      "metadata": {
        "id": "3XvhILZ4ytKy"
      },
      "source": [
        "# Adding the first LSTM layer and some Dropout regularisation\r\n",
        "\r\n",
        "model.add(Input(shape=[None,128], ragged=True))\r\n",
        "\r\n",
        "#model.add(Conv1D(32, 5, activation='tanh'))\r\n",
        "\r\n",
        "model.add(LSTM(units = 100, activation='tanh',recurrent_regularizer=l2(0.1)))\r\n",
        "#model.add(BatchNormalization())\r\n",
        "#model.add(Dropout(0.95))\r\n",
        "\r\n",
        "#model.add(Dense(256,activation='tanh'))\r\n",
        "#model.add(BatchNormalization())\r\n",
        "#model.add(Dropout(0.8))\r\n",
        "\r\n",
        "# Adding a third LSTM layer and some Dropout regularisation\r\n",
        "#model.add(LSTM(units = 100, return_sequences = True))\r\n",
        "#model.add(Dropout(0.8))\r\n",
        "\r\n",
        "# Adding a fourth LSTM layer and some Dropout regularisation\r\n",
        "#model.add(LSTM(units = 100))\r\n",
        "#model.add(Dropout(0.8 ))\r\n",
        "\r\n",
        "# Adding the output layer\r\n",
        "model.add(Dense(units = 1,activation = \"sigmoid\"))\r\n",
        "\r\n"
      ],
      "execution_count": null,
      "outputs": []
    },
    {
      "cell_type": "code",
      "metadata": {
        "colab": {
          "base_uri": "https://localhost:8080/"
        },
        "id": "ZumooZZFytOa",
        "outputId": "013d24b0-1dc8-4bbf-ff81-50b6072c849f"
      },
      "source": [
        "model.summary()"
      ],
      "execution_count": null,
      "outputs": [
        {
          "output_type": "stream",
          "text": [
            "Model: \"sequential\"\n",
            "_________________________________________________________________\n",
            "Layer (type)                 Output Shape              Param #   \n",
            "=================================================================\n",
            "lstm (LSTM)                  (None, 100)               91600     \n",
            "_________________________________________________________________\n",
            "dense (Dense)                (None, 1)                 101       \n",
            "=================================================================\n",
            "Total params: 91,701\n",
            "Trainable params: 91,701\n",
            "Non-trainable params: 0\n",
            "_________________________________________________________________\n"
          ],
          "name": "stdout"
        }
      ]
    },
    {
      "cell_type": "code",
      "metadata": {
        "colab": {
          "base_uri": "https://localhost:8080/"
        },
        "id": "goDM106xxvNq",
        "outputId": "52206748-9eb4-4f8f-90df-1ef91f4ad060"
      },
      "source": [
        "# Start Training Our Classifier \r\n",
        "batch_size = 128\r\n",
        "epochs = 100\r\n",
        "class_weight = {0: 0.5,\r\n",
        "                1: 6}\r\n",
        "INIT_LR = 0.001\r\n",
        "                \r\n",
        "opt = Adam(lr=INIT_LR, decay=INIT_LR / epochs)\r\n",
        "model.compile(optimizer= opt,loss = \"binary_crossentropy\",metrics = [\"accuracy\"])\r\n",
        "history = model.fit(train_x,\r\n",
        "                    train_y,\r\n",
        "                    batch_size = batch_size,\r\n",
        "                    epochs = epochs,\r\n",
        "                     class_weight=class_weight,\r\n",
        "                    validation_data = (test_x, test_y),\r\n",
        "                    verbose = 1)\r\n",
        "\r\n",
        "#model.load_weights(\"/content/gdrive/MyDrive/Colab Notebooks/cough_sneezing/model2.h5\")\r\n",
        "#score = model.evaluate(testing_set_2, Y_test, verbose=0)\r\n",
        "#print('Test loss:', score[0])\r\n",
        "#print('Test accuracy:', score[1])"
      ],
      "execution_count": null,
      "outputs": [
        {
          "output_type": "stream",
          "text": [
            "Epoch 1/100\n",
            "14/14 [==============================] - 6s 335ms/step - loss: 0.0162 - accuracy: 0.9976 - val_loss: 0.2173 - val_accuracy: 0.9531\n",
            "Epoch 2/100\n",
            "14/14 [==============================] - 4s 319ms/step - loss: 0.0269 - accuracy: 0.9912 - val_loss: 0.2529 - val_accuracy: 0.9479\n",
            "Epoch 3/100\n",
            "14/14 [==============================] - 4s 319ms/step - loss: 0.0203 - accuracy: 0.9974 - val_loss: 0.2434 - val_accuracy: 0.9427\n",
            "Epoch 4/100\n",
            "14/14 [==============================] - 4s 304ms/step - loss: 0.0175 - accuracy: 0.9975 - val_loss: 0.2362 - val_accuracy: 0.9427\n",
            "Epoch 5/100\n",
            "14/14 [==============================] - 4s 309ms/step - loss: 0.0256 - accuracy: 0.9918 - val_loss: 0.2529 - val_accuracy: 0.9531\n",
            "Epoch 6/100\n",
            "14/14 [==============================] - 5s 323ms/step - loss: 0.0352 - accuracy: 0.9917 - val_loss: 0.2725 - val_accuracy: 0.9479\n",
            "Epoch 7/100\n",
            "14/14 [==============================] - 4s 298ms/step - loss: 0.0265 - accuracy: 0.9970 - val_loss: 0.2722 - val_accuracy: 0.9375\n",
            "Epoch 8/100\n",
            "14/14 [==============================] - 4s 305ms/step - loss: 0.0228 - accuracy: 0.9964 - val_loss: 0.2524 - val_accuracy: 0.9323\n",
            "Epoch 9/100\n",
            "14/14 [==============================] - 4s 304ms/step - loss: 0.0191 - accuracy: 0.9949 - val_loss: 0.2438 - val_accuracy: 0.9375\n",
            "Epoch 10/100\n",
            "14/14 [==============================] - 4s 315ms/step - loss: 0.0212 - accuracy: 0.9982 - val_loss: 0.2895 - val_accuracy: 0.9531\n",
            "Epoch 11/100\n",
            "14/14 [==============================] - 5s 326ms/step - loss: 0.0197 - accuracy: 0.9958 - val_loss: 0.2419 - val_accuracy: 0.9531\n",
            "Epoch 12/100\n",
            "14/14 [==============================] - 4s 287ms/step - loss: 0.0182 - accuracy: 0.9999 - val_loss: 0.2551 - val_accuracy: 0.9531\n",
            "Epoch 13/100\n",
            "14/14 [==============================] - 4s 312ms/step - loss: 0.0151 - accuracy: 0.9973 - val_loss: 0.2319 - val_accuracy: 0.9479\n",
            "Epoch 14/100\n",
            "14/14 [==============================] - 4s 321ms/step - loss: 0.0136 - accuracy: 0.9987 - val_loss: 0.2160 - val_accuracy: 0.9531\n",
            "Epoch 15/100\n",
            "14/14 [==============================] - 4s 291ms/step - loss: 0.0183 - accuracy: 0.9980 - val_loss: 0.2210 - val_accuracy: 0.9583\n",
            "Epoch 16/100\n",
            "14/14 [==============================] - 4s 321ms/step - loss: 0.0194 - accuracy: 0.9967 - val_loss: 0.2423 - val_accuracy: 0.9531\n",
            "Epoch 17/100\n",
            "14/14 [==============================] - 4s 320ms/step - loss: 0.0171 - accuracy: 0.9984 - val_loss: 0.2513 - val_accuracy: 0.9479\n",
            "Epoch 18/100\n",
            "14/14 [==============================] - 4s 311ms/step - loss: 0.0183 - accuracy: 0.9965 - val_loss: 0.2715 - val_accuracy: 0.9479\n",
            "Epoch 19/100\n",
            "14/14 [==============================] - 4s 308ms/step - loss: 0.0210 - accuracy: 0.9991 - val_loss: 0.3127 - val_accuracy: 0.9427\n",
            "Epoch 20/100\n",
            "14/14 [==============================] - 4s 307ms/step - loss: 0.0186 - accuracy: 0.9976 - val_loss: 0.2664 - val_accuracy: 0.9583\n",
            "Epoch 21/100\n",
            "14/14 [==============================] - 4s 310ms/step - loss: 0.0163 - accuracy: 0.9981 - val_loss: 0.2355 - val_accuracy: 0.9479\n",
            "Epoch 22/100\n",
            "14/14 [==============================] - 4s 300ms/step - loss: 0.0178 - accuracy: 0.9971 - val_loss: 0.2156 - val_accuracy: 0.9479\n",
            "Epoch 23/100\n",
            "14/14 [==============================] - 4s 307ms/step - loss: 0.0245 - accuracy: 0.9983 - val_loss: 0.2034 - val_accuracy: 0.9479\n",
            "Epoch 24/100\n",
            "14/14 [==============================] - 4s 310ms/step - loss: 0.0271 - accuracy: 0.9940 - val_loss: 0.2801 - val_accuracy: 0.9427\n",
            "Epoch 25/100\n",
            "14/14 [==============================] - 4s 319ms/step - loss: 0.0187 - accuracy: 0.9986 - val_loss: 0.2661 - val_accuracy: 0.9531\n",
            "Epoch 26/100\n",
            "14/14 [==============================] - 4s 313ms/step - loss: 0.0204 - accuracy: 0.9973 - val_loss: 0.2309 - val_accuracy: 0.9479\n",
            "Epoch 27/100\n",
            "14/14 [==============================] - 4s 292ms/step - loss: 0.0243 - accuracy: 0.9952 - val_loss: 0.1813 - val_accuracy: 0.9531\n",
            "Epoch 28/100\n",
            "14/14 [==============================] - 4s 321ms/step - loss: 0.0196 - accuracy: 0.9948 - val_loss: 0.1831 - val_accuracy: 0.9531\n",
            "Epoch 29/100\n",
            "14/14 [==============================] - 4s 322ms/step - loss: 0.0326 - accuracy: 0.9919 - val_loss: 0.2514 - val_accuracy: 0.9219\n",
            "Epoch 30/100\n",
            "14/14 [==============================] - 4s 317ms/step - loss: 0.0346 - accuracy: 0.9901 - val_loss: 0.2054 - val_accuracy: 0.9531\n",
            "Epoch 31/100\n",
            "14/14 [==============================] - 4s 313ms/step - loss: 0.0279 - accuracy: 0.9914 - val_loss: 0.2189 - val_accuracy: 0.9427\n",
            "Epoch 32/100\n",
            "14/14 [==============================] - 4s 310ms/step - loss: 0.0292 - accuracy: 0.9941 - val_loss: 0.2117 - val_accuracy: 0.9479\n",
            "Epoch 33/100\n",
            "14/14 [==============================] - 5s 328ms/step - loss: 0.0213 - accuracy: 0.9949 - val_loss: 0.2174 - val_accuracy: 0.9479\n",
            "Epoch 34/100\n",
            "14/14 [==============================] - 4s 309ms/step - loss: 0.0188 - accuracy: 0.9989 - val_loss: 0.2340 - val_accuracy: 0.9479\n",
            "Epoch 35/100\n",
            "14/14 [==============================] - 4s 293ms/step - loss: 0.0156 - accuracy: 0.9989 - val_loss: 0.2357 - val_accuracy: 0.9323\n",
            "Epoch 36/100\n",
            "14/14 [==============================] - 4s 291ms/step - loss: 0.0150 - accuracy: 0.9984 - val_loss: 0.2421 - val_accuracy: 0.9427\n",
            "Epoch 37/100\n",
            "14/14 [==============================] - 4s 317ms/step - loss: 0.0142 - accuracy: 0.9977 - val_loss: 0.2465 - val_accuracy: 0.9375\n",
            "Epoch 38/100\n",
            "14/14 [==============================] - 4s 309ms/step - loss: 0.0162 - accuracy: 0.9971 - val_loss: 0.2426 - val_accuracy: 0.9323\n",
            "Epoch 39/100\n",
            "14/14 [==============================] - 4s 322ms/step - loss: 0.0171 - accuracy: 0.9970 - val_loss: 0.2239 - val_accuracy: 0.9479\n",
            "Epoch 40/100\n",
            "14/14 [==============================] - 4s 314ms/step - loss: 0.0128 - accuracy: 0.9993 - val_loss: 0.2107 - val_accuracy: 0.9375\n",
            "Epoch 41/100\n",
            "14/14 [==============================] - 4s 318ms/step - loss: 0.0153 - accuracy: 0.9978 - val_loss: 0.2090 - val_accuracy: 0.9427\n",
            "Epoch 42/100\n",
            "14/14 [==============================] - 4s 299ms/step - loss: 0.0259 - accuracy: 0.9954 - val_loss: 0.2088 - val_accuracy: 0.9323\n",
            "Epoch 43/100\n",
            "14/14 [==============================] - 4s 301ms/step - loss: 0.0312 - accuracy: 0.9922 - val_loss: 0.2416 - val_accuracy: 0.9427\n",
            "Epoch 44/100\n",
            "14/14 [==============================] - 4s 312ms/step - loss: 0.0221 - accuracy: 0.9982 - val_loss: 0.2181 - val_accuracy: 0.9479\n",
            "Epoch 45/100\n",
            "14/14 [==============================] - 4s 314ms/step - loss: 0.0253 - accuracy: 0.9943 - val_loss: 0.2032 - val_accuracy: 0.9635\n",
            "Epoch 46/100\n",
            "14/14 [==============================] - 4s 307ms/step - loss: 0.0249 - accuracy: 0.9990 - val_loss: 0.2428 - val_accuracy: 0.9479\n",
            "Epoch 47/100\n",
            "14/14 [==============================] - 4s 311ms/step - loss: 0.0205 - accuracy: 0.9979 - val_loss: 0.2262 - val_accuracy: 0.9479\n",
            "Epoch 48/100\n",
            "14/14 [==============================] - 4s 317ms/step - loss: 0.0167 - accuracy: 0.9983 - val_loss: 0.1941 - val_accuracy: 0.9635\n",
            "Epoch 49/100\n",
            "14/14 [==============================] - 4s 312ms/step - loss: 0.0153 - accuracy: 0.9992 - val_loss: 0.2053 - val_accuracy: 0.9479\n",
            "Epoch 50/100\n",
            "14/14 [==============================] - 4s 301ms/step - loss: 0.0310 - accuracy: 0.9930 - val_loss: 0.2216 - val_accuracy: 0.9479\n",
            "Epoch 51/100\n",
            "14/14 [==============================] - 4s 303ms/step - loss: 0.0287 - accuracy: 0.9939 - val_loss: 0.1961 - val_accuracy: 0.9427\n",
            "Epoch 52/100\n",
            "14/14 [==============================] - 4s 321ms/step - loss: 0.0267 - accuracy: 0.9944 - val_loss: 0.1803 - val_accuracy: 0.9583\n",
            "Epoch 53/100\n",
            "14/14 [==============================] - 4s 306ms/step - loss: 0.0243 - accuracy: 0.9976 - val_loss: 0.2054 - val_accuracy: 0.9427\n",
            "Epoch 54/100\n",
            "14/14 [==============================] - 4s 317ms/step - loss: 0.0222 - accuracy: 0.9940 - val_loss: 0.2258 - val_accuracy: 0.9427\n",
            "Epoch 55/100\n",
            "14/14 [==============================] - 4s 299ms/step - loss: 0.0279 - accuracy: 0.9937 - val_loss: 0.2512 - val_accuracy: 0.9427\n",
            "Epoch 56/100\n",
            "14/14 [==============================] - 4s 319ms/step - loss: 0.0296 - accuracy: 0.9961 - val_loss: 0.1854 - val_accuracy: 0.9583\n",
            "Epoch 57/100\n",
            "14/14 [==============================] - 4s 309ms/step - loss: 0.0464 - accuracy: 0.9949 - val_loss: 0.2121 - val_accuracy: 0.9583\n",
            "Epoch 58/100\n",
            "14/14 [==============================] - 4s 315ms/step - loss: 0.0274 - accuracy: 0.9958 - val_loss: 0.1848 - val_accuracy: 0.9583\n",
            "Epoch 59/100\n",
            "14/14 [==============================] - 4s 317ms/step - loss: 0.0261 - accuracy: 0.9964 - val_loss: 0.2118 - val_accuracy: 0.9479\n",
            "Epoch 60/100\n",
            "14/14 [==============================] - 4s 316ms/step - loss: 0.0174 - accuracy: 0.9998 - val_loss: 0.2017 - val_accuracy: 0.9531\n",
            "Epoch 61/100\n",
            "14/14 [==============================] - 4s 312ms/step - loss: 0.0166 - accuracy: 0.9979 - val_loss: 0.2000 - val_accuracy: 0.9427\n",
            "Epoch 62/100\n",
            "14/14 [==============================] - 4s 322ms/step - loss: 0.0173 - accuracy: 0.9954 - val_loss: 0.1786 - val_accuracy: 0.9635\n",
            "Epoch 63/100\n",
            "14/14 [==============================] - 4s 313ms/step - loss: 0.0172 - accuracy: 0.9981 - val_loss: 0.1859 - val_accuracy: 0.9479\n",
            "Epoch 64/100\n",
            "14/14 [==============================] - 4s 303ms/step - loss: 0.0183 - accuracy: 0.9940 - val_loss: 0.1917 - val_accuracy: 0.9531\n",
            "Epoch 65/100\n",
            "14/14 [==============================] - 4s 309ms/step - loss: 0.0207 - accuracy: 0.9962 - val_loss: 0.2128 - val_accuracy: 0.9583\n",
            "Epoch 66/100\n",
            "14/14 [==============================] - 4s 301ms/step - loss: 0.0225 - accuracy: 0.9972 - val_loss: 0.2043 - val_accuracy: 0.9531\n",
            "Epoch 67/100\n",
            "14/14 [==============================] - 4s 313ms/step - loss: 0.0179 - accuracy: 0.9953 - val_loss: 0.1892 - val_accuracy: 0.9479\n",
            "Epoch 68/100\n",
            "14/14 [==============================] - 4s 315ms/step - loss: 0.0174 - accuracy: 0.9966 - val_loss: 0.1967 - val_accuracy: 0.9635\n",
            "Epoch 69/100\n",
            "14/14 [==============================] - 4s 309ms/step - loss: 0.0183 - accuracy: 0.9964 - val_loss: 0.2123 - val_accuracy: 0.9583\n",
            "Epoch 70/100\n",
            "14/14 [==============================] - 4s 308ms/step - loss: 0.0209 - accuracy: 0.9979 - val_loss: 0.2852 - val_accuracy: 0.9531\n",
            "Epoch 71/100\n",
            "14/14 [==============================] - 4s 295ms/step - loss: 0.0285 - accuracy: 0.9902 - val_loss: 0.2195 - val_accuracy: 0.9479\n",
            "Epoch 72/100\n",
            "14/14 [==============================] - 4s 314ms/step - loss: 0.0360 - accuracy: 0.9917 - val_loss: 0.2387 - val_accuracy: 0.9375\n",
            "Epoch 73/100\n",
            "14/14 [==============================] - 4s 310ms/step - loss: 0.0261 - accuracy: 0.9924 - val_loss: 0.2370 - val_accuracy: 0.9427\n",
            "Epoch 74/100\n",
            "14/14 [==============================] - 4s 298ms/step - loss: 0.0210 - accuracy: 0.9984 - val_loss: 0.2478 - val_accuracy: 0.9375\n",
            "Epoch 75/100\n",
            "14/14 [==============================] - 4s 315ms/step - loss: 0.0244 - accuracy: 0.9966 - val_loss: 0.3088 - val_accuracy: 0.9375\n",
            "Epoch 76/100\n",
            "14/14 [==============================] - 4s 312ms/step - loss: 0.0324 - accuracy: 0.9938 - val_loss: 0.2544 - val_accuracy: 0.9479\n",
            "Epoch 77/100\n",
            "14/14 [==============================] - 4s 299ms/step - loss: 0.0320 - accuracy: 0.9947 - val_loss: 0.2286 - val_accuracy: 0.9479\n",
            "Epoch 78/100\n",
            "14/14 [==============================] - 4s 307ms/step - loss: 0.0231 - accuracy: 0.9974 - val_loss: 0.2396 - val_accuracy: 0.9375\n",
            "Epoch 79/100\n",
            "14/14 [==============================] - 4s 314ms/step - loss: 0.0227 - accuracy: 0.9966 - val_loss: 0.2396 - val_accuracy: 0.9427\n",
            "Epoch 80/100\n",
            "14/14 [==============================] - 4s 305ms/step - loss: 0.0234 - accuracy: 0.9959 - val_loss: 0.2281 - val_accuracy: 0.9531\n",
            "Epoch 81/100\n",
            "14/14 [==============================] - 5s 334ms/step - loss: 0.0159 - accuracy: 0.9985 - val_loss: 0.1890 - val_accuracy: 0.9688\n",
            "Epoch 82/100\n",
            "14/14 [==============================] - 4s 306ms/step - loss: 0.0186 - accuracy: 0.9996 - val_loss: 0.1975 - val_accuracy: 0.9583\n",
            "Epoch 83/100\n",
            "14/14 [==============================] - 4s 312ms/step - loss: 0.0215 - accuracy: 0.9941 - val_loss: 0.2288 - val_accuracy: 0.9583\n",
            "Epoch 84/100\n",
            "14/14 [==============================] - 4s 325ms/step - loss: 0.0197 - accuracy: 0.9966 - val_loss: 0.2385 - val_accuracy: 0.9531\n",
            "Epoch 85/100\n",
            "14/14 [==============================] - 4s 313ms/step - loss: 0.0264 - accuracy: 0.9974 - val_loss: 0.2019 - val_accuracy: 0.9583\n",
            "Epoch 86/100\n",
            "14/14 [==============================] - 5s 325ms/step - loss: 0.0276 - accuracy: 0.9978 - val_loss: 0.1895 - val_accuracy: 0.9583\n",
            "Epoch 87/100\n",
            "14/14 [==============================] - 4s 291ms/step - loss: 0.0222 - accuracy: 0.9980 - val_loss: 0.2105 - val_accuracy: 0.9427\n",
            "Epoch 88/100\n",
            "14/14 [==============================] - 4s 306ms/step - loss: 0.0207 - accuracy: 0.9936 - val_loss: 0.1980 - val_accuracy: 0.9583\n",
            "Epoch 89/100\n",
            "14/14 [==============================] - 4s 311ms/step - loss: 0.0163 - accuracy: 0.9995 - val_loss: 0.1695 - val_accuracy: 0.9583\n",
            "Epoch 90/100\n",
            "14/14 [==============================] - 4s 306ms/step - loss: 0.0141 - accuracy: 0.9999 - val_loss: 0.1884 - val_accuracy: 0.9479\n",
            "Epoch 91/100\n",
            "14/14 [==============================] - 4s 312ms/step - loss: 0.0138 - accuracy: 0.9984 - val_loss: 0.2085 - val_accuracy: 0.9427\n",
            "Epoch 92/100\n",
            "14/14 [==============================] - 4s 311ms/step - loss: 0.0163 - accuracy: 0.9970 - val_loss: 0.2027 - val_accuracy: 0.9531\n",
            "Epoch 93/100\n",
            "14/14 [==============================] - 4s 310ms/step - loss: 0.0197 - accuracy: 0.9936 - val_loss: 0.2037 - val_accuracy: 0.9531\n",
            "Epoch 94/100\n",
            "14/14 [==============================] - 4s 300ms/step - loss: 0.0184 - accuracy: 0.9966 - val_loss: 0.2250 - val_accuracy: 0.9479\n",
            "Epoch 95/100\n",
            "14/14 [==============================] - 4s 303ms/step - loss: 0.0142 - accuracy: 0.9986 - val_loss: 0.2169 - val_accuracy: 0.9479\n",
            "Epoch 96/100\n",
            "14/14 [==============================] - 4s 314ms/step - loss: 0.0168 - accuracy: 0.9979 - val_loss: 0.1984 - val_accuracy: 0.9583\n",
            "Epoch 97/100\n",
            "14/14 [==============================] - 4s 319ms/step - loss: 0.0141 - accuracy: 0.9966 - val_loss: 0.2021 - val_accuracy: 0.9479\n",
            "Epoch 98/100\n",
            "14/14 [==============================] - 4s 319ms/step - loss: 0.0142 - accuracy: 0.9988 - val_loss: 0.2184 - val_accuracy: 0.9479\n",
            "Epoch 99/100\n",
            "14/14 [==============================] - 4s 312ms/step - loss: 0.0168 - accuracy: 0.9965 - val_loss: 0.2133 - val_accuracy: 0.9427\n",
            "Epoch 100/100\n",
            "14/14 [==============================] - 4s 320ms/step - loss: 0.0205 - accuracy: 0.9971 - val_loss: 0.2059 - val_accuracy: 0.9531\n"
          ],
          "name": "stdout"
        }
      ]
    },
    {
      "cell_type": "code",
      "metadata": {
        "id": "SOLZ1yqGu13H"
      },
      "source": [
        "#model.save_weights(\"/content/gdrive/MyDrive/Colab Notebooks/cough_sneezing/model.h5\")"
      ],
      "execution_count": null,
      "outputs": []
    },
    {
      "cell_type": "code",
      "metadata": {
        "colab": {
          "base_uri": "https://localhost:8080/"
        },
        "id": "Ee0q0-ERy-Qg",
        "outputId": "909c4561-f008-4783-8766-1f484d63941e"
      },
      "source": [
        "from sklearn.metrics import confusion_matrix\r\n",
        "from sklearn.metrics import classification_report\r\n",
        "from sklearn.metrics import accuracy_score\r\n",
        "\r\n",
        "predictions = model.predict(train_x)\r\n",
        "predictions = (predictions > 0.5)\r\n",
        "\r\n",
        "print(confusion_matrix(train_y, predictions))\r\n",
        "print(classification_report(train_y, predictions))"
      ],
      "execution_count": null,
      "outputs": [
        {
          "output_type": "stream",
          "text": [
            "[[1296    2]\n",
            " [   0  429]]\n",
            "              precision    recall  f1-score   support\n",
            "\n",
            "           0       1.00      1.00      1.00      1298\n",
            "           1       1.00      1.00      1.00       429\n",
            "\n",
            "    accuracy                           1.00      1727\n",
            "   macro avg       1.00      1.00      1.00      1727\n",
            "weighted avg       1.00      1.00      1.00      1727\n",
            "\n"
          ],
          "name": "stdout"
        }
      ]
    },
    {
      "cell_type": "code",
      "metadata": {
        "colab": {
          "base_uri": "https://localhost:8080/"
        },
        "id": "xJLujwGry-TK",
        "outputId": "90995239-da02-4193-d05c-3e85676d0680"
      },
      "source": [
        "from sklearn.metrics import confusion_matrix\r\n",
        "from sklearn.metrics import classification_report\r\n",
        "from sklearn.metrics import accuracy_score\r\n",
        "\r\n",
        "predictions = model.predict(test_x)\r\n",
        "predictions = (predictions > 0.50)\r\n",
        "\r\n",
        "print(confusion_matrix(test_y, predictions))\r\n",
        "print(classification_report(test_y, predictions))"
      ],
      "execution_count": null,
      "outputs": [
        {
          "output_type": "stream",
          "text": [
            "[[138   3]\n",
            " [  6  45]]\n",
            "              precision    recall  f1-score   support\n",
            "\n",
            "           0       0.96      0.98      0.97       141\n",
            "           1       0.94      0.88      0.91        51\n",
            "\n",
            "    accuracy                           0.95       192\n",
            "   macro avg       0.95      0.93      0.94       192\n",
            "weighted avg       0.95      0.95      0.95       192\n",
            "\n"
          ],
          "name": "stdout"
        }
      ]
    },
    {
      "cell_type": "code",
      "metadata": {
        "colab": {
          "base_uri": "https://localhost:8080/",
          "height": 541
        },
        "id": "WvZpE3YmViFw",
        "outputId": "efb4b483-4759-43a0-980b-009bb8256b8f"
      },
      "source": [
        "import matplotlib.pyplot as plt\r\n",
        "\r\n",
        "\r\n",
        "def plot_graphs(history, string):\r\n",
        "  plt.plot(history.history[string])\r\n",
        "  plt.plot(history.history['val_'+string])\r\n",
        "  plt.xlabel(\"Epochs\")\r\n",
        "  plt.ylabel(string)\r\n",
        "  plt.legend([string, 'val_'+string])\r\n",
        "  plt.show()\r\n",
        "\r\n",
        "plot_graphs(history, 'accuracy')\r\n",
        "plot_graphs(history, 'loss')"
      ],
      "execution_count": null,
      "outputs": [
        {
          "output_type": "display_data",
          "data": {
            "image/png": "[encoded data removed]",
            "text/plain": [
              "<Figure size 432x288 with 1 Axes>"
            ]
          },
          "metadata": {
            "tags": [],
            "needs_background": "light"
          }
        },
        {
          "output_type": "display_data",
          "data": {
            "image/png": "[encoded data removed]",
            "text/plain": [
              "<Figure size 432x288 with 1 Axes>"
            ]
          },
          "metadata": {
            "tags": [],
            "needs_background": "light"
          }
        }
      ]
    },
    {
      "cell_type": "code",
      "metadata": {
        "id": "izAgXVh0XZ_G",
        "colab": {
          "base_uri": "https://localhost:8080/"
        },
        "outputId": "99cd6314-5fab-48d8-a99c-43047c03129c"
      },
      "source": [
        "# serialize model to JSON\r\n",
        "#model_json = model.to_json()\r\n",
        "#with open(\"model2.json\", \"w\") as json_file:\r\n",
        "#    json_file.write(model_json)\r\n",
        "# serialize weights to HDF5\r\n",
        "#model.save_weights(\"model2.h5\")\r\n",
        "#print(\"Saved model to disk\")\r\n",
        " \r\n",
        "# later..."
      ],
      "execution_count": null,
      "outputs": [
        {
          "output_type": "stream",
          "text": [
            "Saved model to disk\n"
          ],
          "name": "stdout"
        }
      ]
    },
    {
      "cell_type": "code",
      "metadata": {
        "id": "s4zFb2vx8OCR"
      },
      "source": [
        ""
      ],
      "execution_count": null,
      "outputs": []
    },
    {
      "cell_type": "code",
      "metadata": {
        "id": "sPH5vyx-8OSb"
      },
      "source": [
        "from keras.models import model_from_json\r\n",
        "json_file = open('model2.json', 'r')\r\n",
        "loaded_model_json = json_file.read()\r\n",
        "json_file.close()\r\n",
        "loaded_model = model_from_json(loaded_model_json)\r\n",
        "loaded_model.load_weights(\"model2.h5\")\r\n"
      ],
      "execution_count": null,
      "outputs": []
    },
    {
      "cell_type": "code",
      "metadata": {
        "id": "MNiAlw8eXaBi",
        "colab": {
          "base_uri": "https://localhost:8080/"
        },
        "outputId": "e8a17f6e-1a4b-4aa3-f26e-43b8560ca359"
      },
      "source": [
        "from sklearn.metrics import confusion_matrix\r\n",
        "from sklearn.metrics import classification_report\r\n",
        "from sklearn.metrics import accuracy_score\r\n",
        "\r\n",
        "predictions = loaded_model.predict(train_x)\r\n",
        "predictions = (predictions > 0.5)\r\n",
        "\r\n",
        "print(confusion_matrix(train_y, predictions))\r\n",
        "print(classification_report(train_y, predictions))"
      ],
      "execution_count": null,
      "outputs": [
        {
          "output_type": "stream",
          "text": [
            "[[1298    0]\n",
            " [   0  429]]\n",
            "              precision    recall  f1-score   support\n",
            "\n",
            "           0       1.00      1.00      1.00      1298\n",
            "           1       1.00      1.00      1.00       429\n",
            "\n",
            "    accuracy                           1.00      1727\n",
            "   macro avg       1.00      1.00      1.00      1727\n",
            "weighted avg       1.00      1.00      1.00      1727\n",
            "\n"
          ],
          "name": "stdout"
        }
      ]
    },
    {
      "cell_type": "code",
      "metadata": {
        "colab": {
          "base_uri": "https://localhost:8080/"
        },
        "id": "RkE6kglX8lxF",
        "outputId": "85834e86-a6c2-4a57-bd95-8f59572b46da"
      },
      "source": [
        "from sklearn.metrics import confusion_matrix\r\n",
        "from sklearn.metrics import classification_report\r\n",
        "from sklearn.metrics import accuracy_score\r\n",
        "\r\n",
        "predictions = loaded_model.predict(test_x)\r\n",
        "predictions = (predictions > 0.50)\r\n",
        "\r\n",
        "print(confusion_matrix(test_y, predictions))\r\n",
        "print(classification_report(test_y, predictions))"
      ],
      "execution_count": null,
      "outputs": [
        {
          "output_type": "stream",
          "text": [
            "[[136   5]\n",
            " [  4  47]]\n",
            "              precision    recall  f1-score   support\n",
            "\n",
            "           0       0.97      0.96      0.97       141\n",
            "           1       0.90      0.92      0.91        51\n",
            "\n",
            "    accuracy                           0.95       192\n",
            "   macro avg       0.94      0.94      0.94       192\n",
            "weighted avg       0.95      0.95      0.95       192\n",
            "\n"
          ],
          "name": "stdout"
        }
      ]
    }
  ]
}